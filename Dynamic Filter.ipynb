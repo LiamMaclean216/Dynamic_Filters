{
 "cells": [
  {
   "cell_type": "code",
   "execution_count": 1,
   "metadata": {
    "scrolled": true
   },
   "outputs": [
    {
     "name": "stderr",
     "output_type": "stream",
     "text": [
      "/usr/local/lib/python3.5/dist-packages/h5py/__init__.py:36: FutureWarning: Conversion of the second argument of issubdtype from `float` to `np.floating` is deprecated. In future, it will be treated as `np.float64 == np.dtype(float).type`.\n",
      "  from ._conv import register_converters as _register_converters\n"
     ]
    },
    {
     "name": "stdout",
     "output_type": "stream",
     "text": [
      "WARNING:tensorflow:From <ipython-input-1-2894022f642f>:8: read_data_sets (from tensorflow.contrib.learn.python.learn.datasets.mnist) is deprecated and will be removed in a future version.\n",
      "Instructions for updating:\n",
      "Please use alternatives such as official/mnist/dataset.py from tensorflow/models.\n",
      "WARNING:tensorflow:From /usr/local/lib/python3.5/dist-packages/tensorflow/contrib/learn/python/learn/datasets/mnist.py:260: maybe_download (from tensorflow.contrib.learn.python.learn.datasets.base) is deprecated and will be removed in a future version.\n",
      "Instructions for updating:\n",
      "Please write your own downloading logic.\n",
      "WARNING:tensorflow:From /usr/local/lib/python3.5/dist-packages/tensorflow/contrib/learn/python/learn/datasets/mnist.py:262: extract_images (from tensorflow.contrib.learn.python.learn.datasets.mnist) is deprecated and will be removed in a future version.\n",
      "Instructions for updating:\n",
      "Please use tf.data to implement this functionality.\n",
      "Extracting /tmp/data/train-images-idx3-ubyte.gz\n",
      "WARNING:tensorflow:From /usr/local/lib/python3.5/dist-packages/tensorflow/contrib/learn/python/learn/datasets/mnist.py:267: extract_labels (from tensorflow.contrib.learn.python.learn.datasets.mnist) is deprecated and will be removed in a future version.\n",
      "Instructions for updating:\n",
      "Please use tf.data to implement this functionality.\n",
      "Extracting /tmp/data/train-labels-idx1-ubyte.gz\n",
      "Extracting /tmp/data/t10k-images-idx3-ubyte.gz\n",
      "Extracting /tmp/data/t10k-labels-idx1-ubyte.gz\n",
      "WARNING:tensorflow:From /usr/local/lib/python3.5/dist-packages/tensorflow/contrib/learn/python/learn/datasets/mnist.py:290: DataSet.__init__ (from tensorflow.contrib.learn.python.learn.datasets.mnist) is deprecated and will be removed in a future version.\n",
      "Instructions for updating:\n",
      "Please use alternatives such as official/mnist/dataset.py from tensorflow/models.\n"
     ]
    }
   ],
   "source": [
    "import tensorflow as tf\n",
    "import numpy as np\n",
    "import matplotlib.pyplot as plt\n",
    "%matplotlib notebook\n",
    "\n",
    "from tensorflow.examples.tutorials.mnist import input_data\n",
    "\n",
    "mnist = input_data.read_data_sets(\"/tmp/data/\")"
   ]
  },
  {
   "cell_type": "code",
   "execution_count": 2,
   "metadata": {},
   "outputs": [],
   "source": [
    "X_batch, y_batch = mnist.train.next_batch(1)"
   ]
  },
  {
   "cell_type": "code",
   "execution_count": 3,
   "metadata": {
    "scrolled": true
   },
   "outputs": [],
   "source": [
    "tf.reset_default_graph()\n",
    "\n",
    "input_dim = [28,28]\n",
    "\n",
    "num_classes = 10\n",
    "batch_size = 50\n",
    "x = tf.placeholder(shape=[batch_size, input_dim[0],input_dim[1], 1], dtype=tf.float32, name=\"X\")\n",
    "y = tf.placeholder(shape=[batch_size], dtype=tf.int64, name=\"y\")\n",
    "\n",
    "conv1 = tf.layers.conv2d(x, name=\"conv1\", filters = 64, \n",
    "                         kernel_size = 4,strides = 1,padding = \"valid\", activation = tf.nn.relu)\n",
    "conv2 = tf.layers.conv2d(conv1, name=\"conv2\", filters = 128, \n",
    "                         kernel_size = 4,strides = 1,padding = \"valid\", activation = tf.nn.relu)\n",
    "pool1 = tf.layers.max_pooling2d(conv2, pool_size = [2,2], strides = 2)\n",
    "\n",
    "conv3 = tf.layers.conv2d(pool1, name=\"conv3\", filters = 32, \n",
    "                         kernel_size = 4,strides = 1,padding = \"valid\", activation = tf.nn.relu)\n",
    "conv4 = tf.layers.conv2d(conv3, name=\"conv4\", filters = 64, \n",
    "                         kernel_size = 4,strides = 1,padding = \"valid\", activation = tf.nn.relu)\n",
    "pool2 = tf.layers.max_pooling2d(conv4, pool_size = [2,2], strides = 2)\n",
    "pool2_flat = tf.reshape(pool1,[tf.shape(pool1)[0],pool1.shape[1]*pool1.shape[2]*pool1.shape[3]])\n",
    "\n",
    "\n",
    "\n",
    "\n",
    " \n",
    "####dynamic filter#######\n",
    "x_flat = tf.reshape(x,[tf.shape(x)[0],x.shape[1]*x.shape[2]*x.shape[3]],name=\"x_reshape\")\n",
    "d_dense = tf.layers.dense(x_flat,pool2_flat.shape[1]*num_classes, name = \"d_dense1\")   \n",
    "\n",
    "W = tf.reshape(d_dense,[tf.shape(x)[0], pool2_flat.shape[1], num_classes],name = \"w_reshape\")\n",
    "\n",
    "    \n",
    "\n",
    "matmul = [tf.matmul(tf.reshape(tf.unstack(pool2_flat)[i],[1,pool2_flat.shape[1]]), \n",
    "                    tf.unstack(W)[i]) \n",
    "          for i in range(batch_size)]\n",
    "logits = tf.squeeze(tf.stack(matmul),axis=1)\n",
    "\n",
    "\n",
    "#W_ = tf.get_variable('W_', [pool2_flat.shape[1], num_classes])\n",
    "#logits_ = tf.matmul(pool2_flat, W_, name=\"logits\")\n",
    "\n",
    "\n"
   ]
  },
  {
   "cell_type": "code",
   "execution_count": 5,
   "metadata": {
    "scrolled": true
   },
   "outputs": [],
   "source": [
    "predictions = tf.argmax(logits,axis=-1)\n",
    "loss = tf.reduce_mean(tf.nn.softmax_cross_entropy_with_logits_v2(labels=tf.one_hot(y,num_classes), logits=logits))\n",
    "train_op = tf.train.AdamOptimizer(learning_rate=0.001).minimize(loss)"
   ]
  },
  {
   "cell_type": "code",
   "execution_count": 6,
   "metadata": {
    "scrolled": true
   },
   "outputs": [
    {
     "name": "stdout",
     "output_type": "stream",
     "text": [
      "Iteration : 0  Loss : 2.3795158863067627  Real : [3 8 6]  Pred : [7 6 7]\n",
      "Iteration : 50  Loss : 0.11844810843467712  Real : [1 0 4]  Pred : [1 0 9]\n",
      "Iteration : 100  Loss : 0.14871624112129211  Real : [9 7 3]  Pred : [9 7 3]\n",
      "Iteration : 150  Loss : 0.02912949025630951  Real : [7 5 4]  Pred : [7 5 4]\n",
      "Iteration : 200  Loss : 0.11489465832710266  Real : [1 7 8]  Pred : [1 7 8]\n",
      "Iteration : 250  Loss : 0.09161071479320526  Real : [0 6 1]  Pred : [0 6 1]\n",
      "Iteration : 300  Loss : 0.05241715535521507  Real : [3 2 9]  Pred : [3 2 4]\n",
      "Iteration : 350  Loss : 0.025655724108219147  Real : [8 0 6]  Pred : [8 0 6]\n",
      "Iteration : 400  Loss : 0.12459543347358704  Real : [0 1 2]  Pred : [0 1 2]\n",
      "Iteration : 450  Loss : 0.07976213097572327  Real : [4 4 3]  Pred : [4 4 3]\n",
      "Iteration : 500  Loss : 0.0438171923160553  Real : [1 9 4]  Pred : [1 9 4]\n",
      "Iteration : 550  Loss : 0.1925077885389328  Real : [2 6 0]  Pred : [2 5 0]\n",
      "Iteration : 600  Loss : 0.022128403186798096  Real : [4 1 0]  Pred : [4 1 0]\n",
      "Iteration : 650  Loss : 0.2655201554298401  Real : [2 7 3]  Pred : [2 7 3]\n",
      "Iteration : 700  Loss : 0.020219290629029274  Real : [6 7 0]  Pred : [6 7 0]\n",
      "Iteration : 750  Loss : 0.03452431783080101  Real : [0 1 7]  Pred : [0 1 7]\n",
      "Iteration : 800  Loss : 0.12752176821231842  Real : [0 2 4]  Pred : [0 2 4]\n",
      "Iteration : 850  Loss : 0.018178628757596016  Real : [5 8 1]  Pred : [5 8 1]\n",
      "Iteration : 900  Loss : 0.0795612558722496  Real : [8 0 8]  Pred : [8 0 8]\n",
      "Iteration : 950  Loss : 0.005173795390874147  Real : [5 4 4]  Pred : [5 4 4]\n",
      "Iteration : 1000  Loss : 0.011523573659360409  Real : [0 4 7]  Pred : [0 4 7]\n",
      "Iteration : 1050  Loss : 0.15189307928085327  Real : [8 0 0]  Pred : [8 0 0]\n",
      "Iteration : 1100  Loss : 0.002257618820294738  Real : [5 0 1]  Pred : [5 0 1]\n",
      "Iteration : 1150  Loss : 5.861869067302905e-05  Real : [2 5 2]  Pred : [2 5 2]\n",
      "Iteration : 1200  Loss : 0.001693921978585422  Real : [3 3 9]  Pred : [3 3 9]\n",
      "Iteration : 1250  Loss : 0.006166221108287573  Real : [6 3 2]  Pred : [6 3 2]\n",
      "Iteration : 1300  Loss : 0.0002765451790764928  Real : [3 8 2]  Pred : [3 8 2]\n",
      "Iteration : 1350  Loss : 0.009416947141289711  Real : [5 5 8]  Pred : [5 5 8]\n",
      "Iteration : 1400  Loss : 0.0058472477830946445  Real : [8 4 8]  Pred : [8 4 8]\n",
      "Iteration : 1450  Loss : 0.027573764324188232  Real : [5 0 9]  Pred : [5 0 9]\n",
      "Iteration : 1500  Loss : 0.005467934999614954  Real : [1 4 8]  Pred : [1 4 8]\n",
      "Iteration : 1550  Loss : 0.00520566338673234  Real : [2 2 7]  Pred : [2 2 7]\n",
      "Iteration : 1600  Loss : 0.005748771596699953  Real : [9 1 6]  Pred : [9 1 6]\n",
      "Iteration : 1650  Loss : 0.0010516609763726592  Real : [0 9 9]  Pred : [0 9 9]\n",
      "Iteration : 1700  Loss : 0.0017895050114020705  Real : [1 7 4]  Pred : [1 7 4]\n",
      "Iteration : 1750  Loss : 0.04124833270907402  Real : [6 7 1]  Pred : [6 7 1]\n",
      "Iteration : 1800  Loss : 0.00024573635892011225  Real : [0 7 3]  Pred : [0 7 3]\n",
      "Iteration : 1850  Loss : 0.005374034866690636  Real : [5 6 5]  Pred : [5 6 5]\n",
      "Iteration : 1900  Loss : 0.002651358488947153  Real : [9 4 2]  Pred : [9 4 2]\n",
      "Iteration : 1950  Loss : 0.10958963632583618  Real : [0 8 7]  Pred : [0 8 7]\n",
      "Iteration : 2000  Loss : 0.15678584575653076  Real : [5 6 3]  Pred : [5 6 3]\n",
      "Iteration : 2050  Loss : 0.005224962718784809  Real : [1 0 1]  Pred : [1 0 1]\n",
      "Iteration : 2100  Loss : 0.013036581687629223  Real : [5 7 7]  Pred : [5 7 7]\n",
      "Iteration : 2150  Loss : 0.0006434441893361509  Real : [9 4 1]  Pred : [9 4 1]\n",
      "Iteration : 2200  Loss : 0.0007158201769925654  Real : [9 6 8]  Pred : [9 6 8]\n",
      "Iteration : 2250  Loss : 0.00047982216347008944  Real : [0 0 3]  Pred : [0 0 3]\n",
      "Iteration : 2300  Loss : 0.010240454226732254  Real : [3 7 3]  Pred : [3 7 3]\n",
      "Iteration : 2350  Loss : 4.849611286772415e-05  Real : [8 9 8]  Pred : [8 9 8]\n",
      "Iteration : 2400  Loss : 0.007763177156448364  Real : [7 6 1]  Pred : [7 6 1]\n",
      "Iteration : 2450  Loss : 0.00039822643157094717  Real : [6 7 8]  Pred : [6 7 8]\n",
      "Iteration : 2500  Loss : 0.0017941419500857592  Real : [1 9 9]  Pred : [1 9 9]\n",
      "Iteration : 2550  Loss : 0.0014586129691451788  Real : [5 8 1]  Pred : [5 8 1]\n",
      "Iteration : 2600  Loss : 0.0016358057036995888  Real : [1 7 1]  Pred : [1 7 1]\n",
      "Iteration : 2650  Loss : 0.12041036784648895  Real : [6 0 8]  Pred : [6 0 8]\n",
      "Iteration : 2700  Loss : 5.1766401156783104e-05  Real : [7 1 2]  Pred : [7 1 2]\n",
      "Iteration : 2750  Loss : 0.0002669595123734325  Real : [9 2 6]  Pred : [9 2 6]\n",
      "Iteration : 2800  Loss : 0.00026955499197356403  Real : [0 6 2]  Pred : [0 6 2]\n",
      "Iteration : 2850  Loss : 0.013610885478556156  Real : [4 5 2]  Pred : [4 5 2]\n",
      "Iteration : 2900  Loss : 0.003586282953619957  Real : [5 9 6]  Pred : [5 9 6]\n",
      "Iteration : 2950  Loss : 0.00019391585374251008  Real : [7 2 3]  Pred : [7 2 3]\n",
      "Iteration : 3000  Loss : 0.017061030492186546  Real : [9 8 7]  Pred : [9 8 7]\n",
      "Iteration : 3050  Loss : 0.1471690684556961  Real : [9 7 3]  Pred : [9 7 3]\n",
      "Iteration : 3100  Loss : 0.03060559742152691  Real : [7 8 5]  Pred : [7 8 5]\n",
      "Iteration : 3150  Loss : 0.01905723847448826  Real : [5 1 4]  Pred : [5 1 4]\n",
      "Iteration : 3200  Loss : 0.011782830581068993  Real : [7 5 6]  Pred : [7 5 6]\n",
      "Iteration : 3250  Loss : 0.00034183726529590786  Real : [2 7 7]  Pred : [2 7 7]\n",
      "Iteration : 3300  Loss : 0.05373718589544296  Real : [8 1 9]  Pred : [5 1 9]\n",
      "Iteration : 3350  Loss : 0.006611911579966545  Real : [6 5 1]  Pred : [6 5 1]\n",
      "Iteration : 3400  Loss : 0.0004906742833554745  Real : [5 4 4]  Pred : [5 4 4]\n",
      "Iteration : 3450  Loss : 3.581844430300407e-05  Real : [0 6 7]  Pred : [0 6 7]\n",
      "Iteration : 3500  Loss : 0.01259650383144617  Real : [8 7 3]  Pred : [8 7 3]\n",
      "Iteration : 3550  Loss : 0.004056786186993122  Real : [4 0 2]  Pred : [4 0 2]\n",
      "Iteration : 3600  Loss : 0.0007889129919931293  Real : [0 3 6]  Pred : [0 3 6]\n",
      "Iteration : 3650  Loss : 0.00026845725369639695  Real : [3 8 0]  Pred : [3 8 0]\n",
      "Iteration : 3700  Loss : 0.0007074621971696615  Real : [3 7 4]  Pred : [3 7 4]\n",
      "Iteration : 3750  Loss : 0.01720457896590233  Real : [2 9 2]  Pred : [2 9 2]\n",
      "Iteration : 3800  Loss : 9.155656152870506e-05  Real : [7 5 4]  Pred : [7 5 4]\n",
      "Iteration : 3850  Loss : 3.385433228686452e-05  Real : [8 3 0]  Pred : [8 3 0]\n",
      "Iteration : 3900  Loss : 0.0004501929215621203  Real : [0 0 6]  Pred : [0 0 6]\n",
      "Iteration : 3950  Loss : 0.01313552726060152  Real : [3 5 8]  Pred : [3 5 8]\n",
      "Iteration : 4000  Loss : 2.798405330395326e-05  Real : [9 8 3]  Pred : [9 8 3]\n"
     ]
    },
    {
     "ename": "KeyboardInterrupt",
     "evalue": "",
     "output_type": "error",
     "traceback": [
      "\u001b[0;31m\u001b[0m",
      "\u001b[0;31mKeyboardInterrupt\u001b[0mTraceback (most recent call last)",
      "\u001b[0;32m<ipython-input-6-42ca408e1bf4>\u001b[0m in \u001b[0;36m<module>\u001b[0;34m()\u001b[0m\n\u001b[1;32m      7\u001b[0m         \u001b[0mX_batch\u001b[0m \u001b[0;34m=\u001b[0m \u001b[0mX_batch\u001b[0m\u001b[0;34m.\u001b[0m\u001b[0mreshape\u001b[0m\u001b[0;34m(\u001b[0m\u001b[0;34m[\u001b[0m\u001b[0;34m-\u001b[0m\u001b[0;36m1\u001b[0m\u001b[0;34m,\u001b[0m \u001b[0;36m28\u001b[0m\u001b[0;34m,\u001b[0m \u001b[0;36m28\u001b[0m\u001b[0;34m,\u001b[0m \u001b[0;36m1\u001b[0m\u001b[0;34m]\u001b[0m\u001b[0;34m)\u001b[0m\u001b[0;34m\u001b[0m\u001b[0m\n\u001b[1;32m      8\u001b[0m \u001b[0;34m\u001b[0m\u001b[0m\n\u001b[0;32m----> 9\u001b[0;31m         \u001b[0m_\u001b[0m\u001b[0;34m,\u001b[0m\u001b[0mloss_\u001b[0m\u001b[0;34m,\u001b[0m\u001b[0mpred\u001b[0m \u001b[0;34m=\u001b[0m \u001b[0msess\u001b[0m\u001b[0;34m.\u001b[0m\u001b[0mrun\u001b[0m\u001b[0;34m(\u001b[0m\u001b[0;34m[\u001b[0m\u001b[0mtrain_op\u001b[0m\u001b[0;34m,\u001b[0m\u001b[0mloss\u001b[0m\u001b[0;34m,\u001b[0m\u001b[0mpredictions\u001b[0m\u001b[0;34m]\u001b[0m\u001b[0;34m,\u001b[0m\u001b[0mfeed_dict\u001b[0m \u001b[0;34m=\u001b[0m \u001b[0;34m{\u001b[0m\u001b[0mx\u001b[0m \u001b[0;34m:\u001b[0m \u001b[0mX_batch\u001b[0m\u001b[0;34m,\u001b[0m \u001b[0my\u001b[0m \u001b[0;34m:\u001b[0m \u001b[0my_batch\u001b[0m\u001b[0;34m}\u001b[0m\u001b[0;34m)\u001b[0m\u001b[0;34m\u001b[0m\u001b[0m\n\u001b[0m\u001b[1;32m     10\u001b[0m         \u001b[0;32mif\u001b[0m \u001b[0mi\u001b[0m \u001b[0;34m%\u001b[0m \u001b[0;36m50\u001b[0m \u001b[0;34m==\u001b[0m \u001b[0;36m0\u001b[0m\u001b[0;34m:\u001b[0m\u001b[0;34m\u001b[0m\u001b[0m\n\u001b[1;32m     11\u001b[0m             \u001b[0mprint\u001b[0m\u001b[0;34m(\u001b[0m\u001b[0;34m\"Iteration : {}  Loss : {}  Real : {}  Pred : {}\"\u001b[0m\u001b[0;34m.\u001b[0m\u001b[0mformat\u001b[0m\u001b[0;34m(\u001b[0m\u001b[0mi\u001b[0m\u001b[0;34m,\u001b[0m\u001b[0mloss_\u001b[0m\u001b[0;34m,\u001b[0m\u001b[0my_batch\u001b[0m\u001b[0;34m[\u001b[0m\u001b[0;36m0\u001b[0m\u001b[0;34m:\u001b[0m\u001b[0;36m3\u001b[0m\u001b[0;34m]\u001b[0m\u001b[0;34m,\u001b[0m\u001b[0mpred\u001b[0m\u001b[0;34m[\u001b[0m\u001b[0;36m0\u001b[0m\u001b[0;34m:\u001b[0m\u001b[0;36m3\u001b[0m\u001b[0;34m]\u001b[0m\u001b[0;34m)\u001b[0m\u001b[0;34m)\u001b[0m\u001b[0;34m\u001b[0m\u001b[0m\n",
      "\u001b[0;32m/usr/local/lib/python3.5/dist-packages/tensorflow/python/client/session.py\u001b[0m in \u001b[0;36mrun\u001b[0;34m(self, fetches, feed_dict, options, run_metadata)\u001b[0m\n\u001b[1;32m    898\u001b[0m     \u001b[0;32mtry\u001b[0m\u001b[0;34m:\u001b[0m\u001b[0;34m\u001b[0m\u001b[0m\n\u001b[1;32m    899\u001b[0m       result = self._run(None, fetches, feed_dict, options_ptr,\n\u001b[0;32m--> 900\u001b[0;31m                          run_metadata_ptr)\n\u001b[0m\u001b[1;32m    901\u001b[0m       \u001b[0;32mif\u001b[0m \u001b[0mrun_metadata\u001b[0m\u001b[0;34m:\u001b[0m\u001b[0;34m\u001b[0m\u001b[0m\n\u001b[1;32m    902\u001b[0m         \u001b[0mproto_data\u001b[0m \u001b[0;34m=\u001b[0m \u001b[0mtf_session\u001b[0m\u001b[0;34m.\u001b[0m\u001b[0mTF_GetBuffer\u001b[0m\u001b[0;34m(\u001b[0m\u001b[0mrun_metadata_ptr\u001b[0m\u001b[0;34m)\u001b[0m\u001b[0;34m\u001b[0m\u001b[0m\n",
      "\u001b[0;32m/usr/local/lib/python3.5/dist-packages/tensorflow/python/client/session.py\u001b[0m in \u001b[0;36m_run\u001b[0;34m(self, handle, fetches, feed_dict, options, run_metadata)\u001b[0m\n\u001b[1;32m   1133\u001b[0m     \u001b[0;32mif\u001b[0m \u001b[0mfinal_fetches\u001b[0m \u001b[0;32mor\u001b[0m \u001b[0mfinal_targets\u001b[0m \u001b[0;32mor\u001b[0m \u001b[0;34m(\u001b[0m\u001b[0mhandle\u001b[0m \u001b[0;32mand\u001b[0m \u001b[0mfeed_dict_tensor\u001b[0m\u001b[0;34m)\u001b[0m\u001b[0;34m:\u001b[0m\u001b[0;34m\u001b[0m\u001b[0m\n\u001b[1;32m   1134\u001b[0m       results = self._do_run(handle, final_targets, final_fetches,\n\u001b[0;32m-> 1135\u001b[0;31m                              feed_dict_tensor, options, run_metadata)\n\u001b[0m\u001b[1;32m   1136\u001b[0m     \u001b[0;32melse\u001b[0m\u001b[0;34m:\u001b[0m\u001b[0;34m\u001b[0m\u001b[0m\n\u001b[1;32m   1137\u001b[0m       \u001b[0mresults\u001b[0m \u001b[0;34m=\u001b[0m \u001b[0;34m[\u001b[0m\u001b[0;34m]\u001b[0m\u001b[0;34m\u001b[0m\u001b[0m\n",
      "\u001b[0;32m/usr/local/lib/python3.5/dist-packages/tensorflow/python/client/session.py\u001b[0m in \u001b[0;36m_do_run\u001b[0;34m(self, handle, target_list, fetch_list, feed_dict, options, run_metadata)\u001b[0m\n\u001b[1;32m   1314\u001b[0m     \u001b[0;32mif\u001b[0m \u001b[0mhandle\u001b[0m \u001b[0;32mis\u001b[0m \u001b[0;32mNone\u001b[0m\u001b[0;34m:\u001b[0m\u001b[0;34m\u001b[0m\u001b[0m\n\u001b[1;32m   1315\u001b[0m       return self._do_call(_run_fn, feeds, fetches, targets, options,\n\u001b[0;32m-> 1316\u001b[0;31m                            run_metadata)\n\u001b[0m\u001b[1;32m   1317\u001b[0m     \u001b[0;32melse\u001b[0m\u001b[0;34m:\u001b[0m\u001b[0;34m\u001b[0m\u001b[0m\n\u001b[1;32m   1318\u001b[0m       \u001b[0;32mreturn\u001b[0m \u001b[0mself\u001b[0m\u001b[0;34m.\u001b[0m\u001b[0m_do_call\u001b[0m\u001b[0;34m(\u001b[0m\u001b[0m_prun_fn\u001b[0m\u001b[0;34m,\u001b[0m \u001b[0mhandle\u001b[0m\u001b[0;34m,\u001b[0m \u001b[0mfeeds\u001b[0m\u001b[0;34m,\u001b[0m \u001b[0mfetches\u001b[0m\u001b[0;34m)\u001b[0m\u001b[0;34m\u001b[0m\u001b[0m\n",
      "\u001b[0;32m/usr/local/lib/python3.5/dist-packages/tensorflow/python/client/session.py\u001b[0m in \u001b[0;36m_do_call\u001b[0;34m(self, fn, *args)\u001b[0m\n\u001b[1;32m   1320\u001b[0m   \u001b[0;32mdef\u001b[0m \u001b[0m_do_call\u001b[0m\u001b[0;34m(\u001b[0m\u001b[0mself\u001b[0m\u001b[0;34m,\u001b[0m \u001b[0mfn\u001b[0m\u001b[0;34m,\u001b[0m \u001b[0;34m*\u001b[0m\u001b[0margs\u001b[0m\u001b[0;34m)\u001b[0m\u001b[0;34m:\u001b[0m\u001b[0;34m\u001b[0m\u001b[0m\n\u001b[1;32m   1321\u001b[0m     \u001b[0;32mtry\u001b[0m\u001b[0;34m:\u001b[0m\u001b[0;34m\u001b[0m\u001b[0m\n\u001b[0;32m-> 1322\u001b[0;31m       \u001b[0;32mreturn\u001b[0m \u001b[0mfn\u001b[0m\u001b[0;34m(\u001b[0m\u001b[0;34m*\u001b[0m\u001b[0margs\u001b[0m\u001b[0;34m)\u001b[0m\u001b[0;34m\u001b[0m\u001b[0m\n\u001b[0m\u001b[1;32m   1323\u001b[0m     \u001b[0;32mexcept\u001b[0m \u001b[0merrors\u001b[0m\u001b[0;34m.\u001b[0m\u001b[0mOpError\u001b[0m \u001b[0;32mas\u001b[0m \u001b[0me\u001b[0m\u001b[0;34m:\u001b[0m\u001b[0;34m\u001b[0m\u001b[0m\n\u001b[1;32m   1324\u001b[0m       \u001b[0mmessage\u001b[0m \u001b[0;34m=\u001b[0m \u001b[0mcompat\u001b[0m\u001b[0;34m.\u001b[0m\u001b[0mas_text\u001b[0m\u001b[0;34m(\u001b[0m\u001b[0me\u001b[0m\u001b[0;34m.\u001b[0m\u001b[0mmessage\u001b[0m\u001b[0;34m)\u001b[0m\u001b[0;34m\u001b[0m\u001b[0m\n",
      "\u001b[0;32m/usr/local/lib/python3.5/dist-packages/tensorflow/python/client/session.py\u001b[0m in \u001b[0;36m_run_fn\u001b[0;34m(feed_dict, fetch_list, target_list, options, run_metadata)\u001b[0m\n\u001b[1;32m   1305\u001b[0m       \u001b[0mself\u001b[0m\u001b[0;34m.\u001b[0m\u001b[0m_extend_graph\u001b[0m\u001b[0;34m(\u001b[0m\u001b[0;34m)\u001b[0m\u001b[0;34m\u001b[0m\u001b[0m\n\u001b[1;32m   1306\u001b[0m       return self._call_tf_sessionrun(\n\u001b[0;32m-> 1307\u001b[0;31m           options, feed_dict, fetch_list, target_list, run_metadata)\n\u001b[0m\u001b[1;32m   1308\u001b[0m \u001b[0;34m\u001b[0m\u001b[0m\n\u001b[1;32m   1309\u001b[0m     \u001b[0;32mdef\u001b[0m \u001b[0m_prun_fn\u001b[0m\u001b[0;34m(\u001b[0m\u001b[0mhandle\u001b[0m\u001b[0;34m,\u001b[0m \u001b[0mfeed_dict\u001b[0m\u001b[0;34m,\u001b[0m \u001b[0mfetch_list\u001b[0m\u001b[0;34m)\u001b[0m\u001b[0;34m:\u001b[0m\u001b[0;34m\u001b[0m\u001b[0m\n",
      "\u001b[0;32m/usr/local/lib/python3.5/dist-packages/tensorflow/python/client/session.py\u001b[0m in \u001b[0;36m_call_tf_sessionrun\u001b[0;34m(self, options, feed_dict, fetch_list, target_list, run_metadata)\u001b[0m\n\u001b[1;32m   1407\u001b[0m       return tf_session.TF_SessionRun_wrapper(\n\u001b[1;32m   1408\u001b[0m           \u001b[0mself\u001b[0m\u001b[0;34m.\u001b[0m\u001b[0m_session\u001b[0m\u001b[0;34m,\u001b[0m \u001b[0moptions\u001b[0m\u001b[0;34m,\u001b[0m \u001b[0mfeed_dict\u001b[0m\u001b[0;34m,\u001b[0m \u001b[0mfetch_list\u001b[0m\u001b[0;34m,\u001b[0m \u001b[0mtarget_list\u001b[0m\u001b[0;34m,\u001b[0m\u001b[0;34m\u001b[0m\u001b[0m\n\u001b[0;32m-> 1409\u001b[0;31m           run_metadata)\n\u001b[0m\u001b[1;32m   1410\u001b[0m     \u001b[0;32melse\u001b[0m\u001b[0;34m:\u001b[0m\u001b[0;34m\u001b[0m\u001b[0m\n\u001b[1;32m   1411\u001b[0m       \u001b[0;32mwith\u001b[0m \u001b[0merrors\u001b[0m\u001b[0;34m.\u001b[0m\u001b[0mraise_exception_on_not_ok_status\u001b[0m\u001b[0;34m(\u001b[0m\u001b[0;34m)\u001b[0m \u001b[0;32mas\u001b[0m \u001b[0mstatus\u001b[0m\u001b[0;34m:\u001b[0m\u001b[0;34m\u001b[0m\u001b[0m\n",
      "\u001b[0;31mKeyboardInterrupt\u001b[0m: "
     ]
    }
   ],
   "source": [
    "batch_size = 50\n",
    "with tf.Session() as sess:\n",
    "    tf.global_variables_initializer().run()\n",
    "    \n",
    "    for i in range(5000):\n",
    "        X_batch, y_batch = mnist.train.next_batch(batch_size)\n",
    "        X_batch = X_batch.reshape([-1, 28, 28, 1])\n",
    "\n",
    "        _,loss_,pred = sess.run([train_op,loss,predictions],feed_dict = {x : X_batch, y : y_batch})\n",
    "        if i % 50 == 0:\n",
    "            print(\"Iteration : {}  Loss : {}  Real : {}  Pred : {}\".format(i,loss_,y_batch[0:3],pred[0:3]))"
   ]
  },
  {
   "cell_type": "code",
   "execution_count": null,
   "metadata": {},
   "outputs": [],
   "source": []
  },
  {
   "cell_type": "code",
   "execution_count": null,
   "metadata": {},
   "outputs": [],
   "source": []
  }
 ],
 "metadata": {
  "kernelspec": {
   "display_name": "Python 3",
   "language": "python",
   "name": "python3"
  },
  "language_info": {
   "codemirror_mode": {
    "name": "ipython",
    "version": 3
   },
   "file_extension": ".py",
   "mimetype": "text/x-python",
   "name": "python",
   "nbconvert_exporter": "python",
   "pygments_lexer": "ipython3",
   "version": "3.5.2"
  }
 },
 "nbformat": 4,
 "nbformat_minor": 2
}
